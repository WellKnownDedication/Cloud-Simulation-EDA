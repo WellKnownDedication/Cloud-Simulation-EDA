{
 "cells": [
  {
   "cell_type": "code",
   "execution_count": 79,
   "metadata": {},
   "outputs": [],
   "source": [
    "import pandas as pd"
   ]
  },
  {
   "cell_type": "code",
   "execution_count": 80,
   "metadata": {},
   "outputs": [
    {
     "data": {
      "text/html": [
       "<div>\n",
       "<style scoped>\n",
       "    .dataframe tbody tr th:only-of-type {\n",
       "        vertical-align: middle;\n",
       "    }\n",
       "\n",
       "    .dataframe tbody tr th {\n",
       "        vertical-align: top;\n",
       "    }\n",
       "\n",
       "    .dataframe thead th {\n",
       "        text-align: right;\n",
       "    }\n",
       "</style>\n",
       "<table border=\"1\" class=\"dataframe\">\n",
       "  <thead>\n",
       "    <tr style=\"text-align: right;\">\n",
       "      <th></th>\n",
       "      <th>Cloudlet ID</th>\n",
       "      <th>User ID</th>\n",
       "      <th>Status</th>\n",
       "      <th>Data Center ID</th>\n",
       "      <th>Submission Time</th>\n",
       "      <th>Start Time</th>\n",
       "      <th>Finish Time</th>\n",
       "      <th>Cloudlet Length</th>\n",
       "      <th>Processing Cost</th>\n",
       "      <th>File Size</th>\n",
       "      <th>CPU Utilization</th>\n",
       "      <th>RAM Utilization</th>\n",
       "      <th>BW Utilization</th>\n",
       "      <th>Waiting Time</th>\n",
       "      <th>Algorithm</th>\n",
       "      <th>Topology</th>\n",
       "      <th>Heterogeneity</th>\n",
       "    </tr>\n",
       "  </thead>\n",
       "  <tbody>\n",
       "    <tr>\n",
       "      <th>0</th>\n",
       "      <td>5</td>\n",
       "      <td>3</td>\n",
       "      <td>SUCCESS</td>\n",
       "      <td>2</td>\n",
       "      <td>0.01</td>\n",
       "      <td>0.01</td>\n",
       "      <td>3.12</td>\n",
       "      <td>3113</td>\n",
       "      <td>131.8</td>\n",
       "      <td>691</td>\n",
       "      <td>UtilizationModelStochastic</td>\n",
       "      <td>UtilizationModelStochastic</td>\n",
       "      <td>UtilizationModelStochastic</td>\n",
       "      <td>0.00</td>\n",
       "      <td>Baseline</td>\n",
       "      <td>Singular</td>\n",
       "      <td>Heterogenous</td>\n",
       "    </tr>\n",
       "    <tr>\n",
       "      <th>1</th>\n",
       "      <td>0</td>\n",
       "      <td>3</td>\n",
       "      <td>SUCCESS</td>\n",
       "      <td>2</td>\n",
       "      <td>0.01</td>\n",
       "      <td>0.01</td>\n",
       "      <td>3.49</td>\n",
       "      <td>3485</td>\n",
       "      <td>61.8</td>\n",
       "      <td>317</td>\n",
       "      <td>UtilizationModelStochastic</td>\n",
       "      <td>UtilizationModelStochastic</td>\n",
       "      <td>UtilizationModelStochastic</td>\n",
       "      <td>0.00</td>\n",
       "      <td>Baseline</td>\n",
       "      <td>Singular</td>\n",
       "      <td>Heterogenous</td>\n",
       "    </tr>\n",
       "    <tr>\n",
       "      <th>2</th>\n",
       "      <td>2</td>\n",
       "      <td>3</td>\n",
       "      <td>SUCCESS</td>\n",
       "      <td>2</td>\n",
       "      <td>0.01</td>\n",
       "      <td>0.01</td>\n",
       "      <td>4.90</td>\n",
       "      <td>4895</td>\n",
       "      <td>114.9</td>\n",
       "      <td>709</td>\n",
       "      <td>UtilizationModelStochastic</td>\n",
       "      <td>UtilizationModelStochastic</td>\n",
       "      <td>UtilizationModelStochastic</td>\n",
       "      <td>0.00</td>\n",
       "      <td>Baseline</td>\n",
       "      <td>Singular</td>\n",
       "      <td>Heterogenous</td>\n",
       "    </tr>\n",
       "    <tr>\n",
       "      <th>3</th>\n",
       "      <td>7</td>\n",
       "      <td>3</td>\n",
       "      <td>SUCCESS</td>\n",
       "      <td>2</td>\n",
       "      <td>0.01</td>\n",
       "      <td>0.01</td>\n",
       "      <td>7.04</td>\n",
       "      <td>7028</td>\n",
       "      <td>118.0</td>\n",
       "      <td>746</td>\n",
       "      <td>UtilizationModelStochastic</td>\n",
       "      <td>UtilizationModelStochastic</td>\n",
       "      <td>UtilizationModelStochastic</td>\n",
       "      <td>0.00</td>\n",
       "      <td>Baseline</td>\n",
       "      <td>Singular</td>\n",
       "      <td>Heterogenous</td>\n",
       "    </tr>\n",
       "    <tr>\n",
       "      <th>4</th>\n",
       "      <td>11</td>\n",
       "      <td>3</td>\n",
       "      <td>SUCCESS</td>\n",
       "      <td>2</td>\n",
       "      <td>0.01</td>\n",
       "      <td>7.04</td>\n",
       "      <td>9.16</td>\n",
       "      <td>2118</td>\n",
       "      <td>66.3</td>\n",
       "      <td>337</td>\n",
       "      <td>UtilizationModelStochastic</td>\n",
       "      <td>UtilizationModelStochastic</td>\n",
       "      <td>UtilizationModelStochastic</td>\n",
       "      <td>7.03</td>\n",
       "      <td>Baseline</td>\n",
       "      <td>Singular</td>\n",
       "      <td>Heterogenous</td>\n",
       "    </tr>\n",
       "  </tbody>\n",
       "</table>\n",
       "</div>"
      ],
      "text/plain": [
       "   Cloudlet ID  User ID   Status  Data Center ID  Submission Time  Start Time  \\\n",
       "0            5        3  SUCCESS               2             0.01        0.01   \n",
       "1            0        3  SUCCESS               2             0.01        0.01   \n",
       "2            2        3  SUCCESS               2             0.01        0.01   \n",
       "3            7        3  SUCCESS               2             0.01        0.01   \n",
       "4           11        3  SUCCESS               2             0.01        7.04   \n",
       "\n",
       "   Finish Time  Cloudlet Length  Processing Cost  File Size  \\\n",
       "0         3.12             3113            131.8        691   \n",
       "1         3.49             3485             61.8        317   \n",
       "2         4.90             4895            114.9        709   \n",
       "3         7.04             7028            118.0        746   \n",
       "4         9.16             2118             66.3        337   \n",
       "\n",
       "              CPU Utilization             RAM Utilization  \\\n",
       "0  UtilizationModelStochastic  UtilizationModelStochastic   \n",
       "1  UtilizationModelStochastic  UtilizationModelStochastic   \n",
       "2  UtilizationModelStochastic  UtilizationModelStochastic   \n",
       "3  UtilizationModelStochastic  UtilizationModelStochastic   \n",
       "4  UtilizationModelStochastic  UtilizationModelStochastic   \n",
       "\n",
       "               BW Utilization  Waiting Time Algorithm  Topology Heterogeneity  \n",
       "0  UtilizationModelStochastic          0.00  Baseline  Singular  Heterogenous  \n",
       "1  UtilizationModelStochastic          0.00  Baseline  Singular  Heterogenous  \n",
       "2  UtilizationModelStochastic          0.00  Baseline  Singular  Heterogenous  \n",
       "3  UtilizationModelStochastic          0.00  Baseline  Singular  Heterogenous  \n",
       "4  UtilizationModelStochastic          7.03  Baseline  Singular  Heterogenous  "
      ]
     },
     "execution_count": 80,
     "metadata": {},
     "output_type": "execute_result"
    }
   ],
   "source": [
    "files_info = [\n",
    "    (\"../data/baselineSingularDatacenterHeterogenous.csv\", \"Baseline\", \"Singular\", \"Heterogenous\"),\n",
    "    (\"../data/baselineSingularDatacenterHomogenous.csv\", \"Baseline\", \"Singular\", \"Homogenous\"),\n",
    "    (\"../data/baselineMultiDatacenterHeterogenous.csv\", \"Baseline\", \"Multi\", \"Heterogenous\"),\n",
    "    (\"../data/baselineMultiDatacenterHomogenous.csv\", \"Baseline\", \"Multi\", \"Homogenous\"),\n",
    "\n",
    "    (\"../data/roundRobinSingularDatacenterHeterogenous.csv\", \"RoundRobin\", \"Singular\", \"Heterogenous\"),\n",
    "    (\"../data/roundRobinSingularDatacenterHomogenous.csv\", \"RoundRobin\", \"Singular\", \"Homogenous\"),\n",
    "    (\"../data/roundRobinMultiDatacenterHeterogenous.csv\", \"RoundRobin\", \"Multi\", \"Heterogenous\"),\n",
    "    (\"../data/roundRobinMultiDatacenterHomogenous.csv\", \"RoundRobin\", \"Multi\", \"Homogenous\"),\n",
    "\n",
    "    (\"../data/GASingularDatacenterHeterogenous.csv\", \"GA\", \"Singular\", \"Heterogenous\"),\n",
    "    (\"../data/GASingularDatacenterHomogenous.csv\", \"GA\", \"Singular\", \"Homogenous\"),\n",
    "    (\"../data/GAMultiDatacenterHeterogenous.csv\", \"GA\", \"Multi\", \"Heterogenous\"),\n",
    "    (\"../data/GAMultiDatacenterHomogenous.csv\", \"GA\", \"Multi\", \"Homogenous\"),\n",
    "]\n",
    "\n",
    "df_list = []\n",
    "for filepath, algorithm, topology, heterogeneity in files_info:\n",
    "    df = pd.read_csv(filepath)\n",
    "    df[\"Algorithm\"] = algorithm\n",
    "    df[\"Topology\"] = topology\n",
    "    df[\"Heterogeneity\"] = heterogeneity\n",
    "    df_list.append(df)\n",
    "\n",
    "df = pd.concat(df_list, ignore_index=True)\n",
    "\n",
    "df.head(5)\n"
   ]
  },
  {
   "cell_type": "code",
   "execution_count": 81,
   "metadata": {},
   "outputs": [
    {
     "data": {
      "text/plain": [
       "Index(['Cloudlet ID', 'User ID', 'Status', 'Data Center ID', 'Submission Time',\n",
       "       'Start Time', 'Finish Time', 'Cloudlet Length', 'Processing Cost',\n",
       "       'File Size', 'CPU Utilization', 'RAM Utilization', 'BW Utilization',\n",
       "       'Waiting Time', 'Algorithm', 'Topology', 'Heterogeneity'],\n",
       "      dtype='object')"
      ]
     },
     "execution_count": 81,
     "metadata": {},
     "output_type": "execute_result"
    }
   ],
   "source": [
    "df.columns"
   ]
  },
  {
   "cell_type": "markdown",
   "metadata": {},
   "source": [
    "## Makespan"
   ]
  },
  {
   "cell_type": "code",
   "execution_count": 82,
   "metadata": {},
   "outputs": [
    {
     "name": "stdout",
     "output_type": "stream",
     "text": [
      "    Topology Heterogeneity   Algorithm  Max Finish Time\n",
      "1      Multi  Heterogenous          GA          1035.51\n",
      "2      Multi  Heterogenous  RoundRobin          1387.01\n",
      "0      Multi  Heterogenous    Baseline          1431.81\n",
      "4      Multi    Homogenous          GA           400.03\n",
      "3      Multi    Homogenous    Baseline           668.03\n",
      "5      Multi    Homogenous  RoundRobin           668.04\n",
      "6   Singular  Heterogenous    Baseline          2030.30\n",
      "8   Singular  Heterogenous  RoundRobin          2072.29\n",
      "7   Singular  Heterogenous          GA          2962.45\n",
      "9   Singular    Homogenous    Baseline          1000.01\n",
      "11  Singular    Homogenous  RoundRobin          1000.01\n",
      "10  Singular    Homogenous          GA          1500.01\n"
     ]
    }
   ],
   "source": [
    "\n",
    "max_finish_times = (\n",
    "    df\n",
    "    .groupby([\"Topology\", \"Heterogeneity\", \"Algorithm\"])[\"Finish Time\"]\n",
    "    .max()\n",
    "    .reset_index()\n",
    "    .rename(columns={\"Finish Time\": \"Max Finish Time\"})\n",
    ")\n",
    "\n",
    "max_finish_times = max_finish_times.sort_values(\n",
    "    by=[\"Topology\", \"Heterogeneity\", \"Max Finish Time\"],\n",
    "    ascending=[True, True, True] \n",
    ")\n",
    "\n",
    "print(max_finish_times)\n"
   ]
  },
  {
   "cell_type": "markdown",
   "metadata": {},
   "source": [
    "## Throughput"
   ]
  },
  {
   "cell_type": "code",
   "execution_count": 83,
   "metadata": {},
   "outputs": [
    {
     "name": "stdout",
     "output_type": "stream",
     "text": [
      "    Topology Heterogeneity   Algorithm  Makespan  Cloudlets  Throughput\n",
      "1      Multi  Heterogenous          GA   1035.51     1000.0    0.965708\n",
      "2      Multi  Heterogenous  RoundRobin   1387.01     1000.0    0.720975\n",
      "0      Multi  Heterogenous    Baseline   1431.81     1000.0    0.698417\n",
      "4      Multi    Homogenous          GA    400.03     1000.0    2.499813\n",
      "3      Multi    Homogenous    Baseline    668.03     1000.0    1.496939\n",
      "5      Multi    Homogenous  RoundRobin    668.04     1000.0    1.496916\n",
      "6   Singular  Heterogenous    Baseline   2030.30     1000.0    0.492538\n",
      "8   Singular  Heterogenous  RoundRobin   2072.29     1000.0    0.482558\n",
      "7   Singular  Heterogenous          GA   2962.45     1000.0    0.337558\n",
      "9   Singular    Homogenous    Baseline   1000.01     1000.0    0.999990\n",
      "11  Singular    Homogenous  RoundRobin   1000.01     1000.0    0.999990\n",
      "10  Singular    Homogenous          GA   1500.01     1000.0    0.666662\n"
     ]
    },
    {
     "name": "stderr",
     "output_type": "stream",
     "text": [
      "/tmp/ipykernel_464407/692500262.py:14: DeprecationWarning: DataFrameGroupBy.apply operated on the grouping columns. This behavior is deprecated, and in a future version of pandas the grouping columns will be excluded from the operation. Either pass `include_groups=False` to exclude the groupings or explicitly select the grouping columns after groupby to silence this warning.\n",
      "  .apply(calc_throughput)\n"
     ]
    }
   ],
   "source": [
    "def calc_throughput(group):\n",
    "    makespan = group[\"Finish Time\"].max()\n",
    "    cloudlet_count = len(group)\n",
    "    throughput = cloudlet_count / makespan if makespan > 0 else 0\n",
    "    return pd.Series({\n",
    "        \"Makespan\": makespan,\n",
    "        \"Cloudlets\": cloudlet_count,\n",
    "        \"Throughput\": throughput\n",
    "    })\n",
    "\n",
    "throughput_df = (\n",
    "    df\n",
    "    .groupby([\"Topology\", \"Heterogeneity\", \"Algorithm\"])\n",
    "    .apply(calc_throughput)\n",
    "    .reset_index()\n",
    ")\n",
    "\n",
    "throughput_df = throughput_df.sort_values(\n",
    "    by=[\"Topology\", \"Heterogeneity\", \"Throughput\"],\n",
    "    ascending=[True, True, False]\n",
    ")\n",
    "\n",
    "print(throughput_df)\n"
   ]
  },
  {
   "cell_type": "markdown",
   "metadata": {},
   "source": [
    "# Visualisations"
   ]
  },
  {
   "cell_type": "code",
   "execution_count": 84,
   "metadata": {},
   "outputs": [
    {
     "data": {
      "text/plain": [
       "Index(['Cloudlet ID', 'User ID', 'Status', 'Data Center ID', 'Submission Time',\n",
       "       'Start Time', 'Finish Time', 'Cloudlet Length', 'Processing Cost',\n",
       "       'File Size', 'CPU Utilization', 'RAM Utilization', 'BW Utilization',\n",
       "       'Waiting Time', 'Algorithm', 'Topology', 'Heterogeneity'],\n",
       "      dtype='object')"
      ]
     },
     "execution_count": 84,
     "metadata": {},
     "output_type": "execute_result"
    }
   ],
   "source": [
    "df.columns"
   ]
  },
  {
   "cell_type": "code",
   "execution_count": 85,
   "metadata": {},
   "outputs": [
    {
     "data": {
      "text/plain": [
       "Index(['Cloudlet ID', 'User ID', 'Submission Time', 'Start Time',\n",
       "       'Finish Time', 'Cloudlet Length', 'Processing Cost', 'File Size',\n",
       "       'Waiting Time', 'Algorithm', 'Topology', 'Heterogeneity'],\n",
       "      dtype='object')"
      ]
     },
     "execution_count": 85,
     "metadata": {},
     "output_type": "execute_result"
    }
   ],
   "source": [
    "df.drop(['Status', 'Data Center ID', 'CPU Utilization', 'RAM Utilization', 'BW Utilization'], axis=1).columns"
   ]
  },
  {
   "cell_type": "code",
   "execution_count": null,
   "metadata": {},
   "outputs": [],
   "source": []
  }
 ],
 "metadata": {
  "kernelspec": {
   "display_name": "pvenv",
   "language": "python",
   "name": "python3"
  },
  "language_info": {
   "codemirror_mode": {
    "name": "ipython",
    "version": 3
   },
   "file_extension": ".py",
   "mimetype": "text/x-python",
   "name": "python",
   "nbconvert_exporter": "python",
   "pygments_lexer": "ipython3",
   "version": "3.13.3"
  }
 },
 "nbformat": 4,
 "nbformat_minor": 2
}
